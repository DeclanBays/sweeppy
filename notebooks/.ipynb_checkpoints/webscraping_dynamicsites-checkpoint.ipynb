{
 "cells": [
  {
   "cell_type": "markdown",
   "metadata": {},
   "source": [
    "# Webscraping dynamic websites\n",
    "---\n",
    "\n",
    "Following on from the webscraping basics notebook where we scraped a static webpage, we now look to use this new notebook to experiment with extracting data from a dynamic website. In particular, we shall look to scrape prices of a given search item from Amazon.com. We look to build familarity with the structure of dynamic webpages, in addition to creating adjusting code to extract desired information."
   ]
  },
  {
   "cell_type": "code",
   "execution_count": 1,
   "metadata": {},
   "outputs": [],
   "source": [
    "import re\n",
    "import bs4\n",
    "import requests\n",
    "from bs4 import BeautifulSoup"
   ]
  },
  {
   "cell_type": "markdown",
   "metadata": {},
   "source": [
    "Start by setting our target web address. We also niavely open the webpage to see what response we initially get."
   ]
  },
  {
   "cell_type": "code",
   "execution_count": 2,
   "metadata": {},
   "outputs": [
    {
     "name": "stdout",
     "output_type": "stream",
     "text": [
      "<!DOCTYPE html>\n",
      "<!--[if lt IE 7]> <html lang=\"en-us\" class=\"a-no-js a-lt-ie9 a-lt-ie8 a-lt-ie7\"> <![endif]-->\n",
      "<!--[if IE 7]>    <html lang=\"en-us\" class=\"a-no-js a-lt-ie9 a-lt-ie8\"> <![endif]-->\n",
      "<!--[if IE 8]>    <html lang=\"en-us\" class=\"a-no-js a-lt-ie9\"> <![endif]-->\n",
      "<!--[if gt IE 8]><!-->\n",
      "<html class=\"a-no-js\" lang=\"en-us\"><!--<![endif]--><head>\n",
      "<meta http-equiv=\"content-type\" content=\"text/html; charset=UTF-8\">\n",
      "<meta charset=\"utf-8\">\n",
      "<meta http-equiv=\"X-UA-Compatible\" content=\"IE=edge,chrome=1\">\n",
      "<title dir=\"ltr\">Amazon.co.uk</title>\n",
      "<meta name=\"viewport\" content=\"width=device-width\">\n",
      "<link rel=\"stylesheet\" href=\"https://images-na.ssl-images-amazon.com/images/G/01/AUIClients/AmazonUI-3c913031596ca78a3768f4e934b1cc02ce238101.secure.min._V1_.css\">\n",
      "<script>\n",
      "\n",
      "if (true === true) {\n",
      "    var ue_t0 = (+ new Date()),\n",
      "        ue_csm = window,\n",
      "        ue = { t0: ue_t0, d: function() { return (+new Date() - ue_t0); } },\n",
      "        ue_furl = \"fls-eu.amazon.co.uk\",\n",
      "        ue_mid = \"A1F83G8C2ARO7P\",\n",
      "        ue_sid = (document.cookie.match(/session-id=([0-9-]+)/) || [])[1],\n",
      "        ue_sn = \"opfcaptcha.amazon.co.uk\",\n",
      "        ue_id = 'TR66RYX1PPB4TYV24AWV';\n",
      "}\n",
      "</script>\n",
      "</head>\n",
      "<body>\n",
      "\n",
      "<!--\n",
      "        To discuss automated access to Amazon data please contact api-services-support@amazon.com.\n",
      "        For information about migrating to our APIs refer to our Marketplace APIs at https://developer.amazonservices.co.uk/ref=rm_c_sv, or our Product Advertising API at https://affiliate-program.amazon.co.uk/gp/advertising/api/detail/main.html/ref=rm_c_ac for advertising use cases.\n",
      "-->\n",
      "\n",
      "<!--\n",
      "Correios.DoNotSend\n",
      "-->\n",
      "\n",
      "<div class=\"a-container a-padding-double-large\" style=\"min-width:350px;padding:44px 0 !important\">\n",
      "\n",
      "    <div class=\"a-row a-spacing-double-large\" style=\"width: 350px; margin: 0 auto\">\n",
      "\n",
      "        <div class=\"a-row a-spacing-medium a-text-center\"><i class=\"a-icon a-logo\"></i></div>\n",
      "\n",
      "        <div class=\"a-box a-alert a-alert-info a-spacing-base\">\n",
      "            <div class=\"a-box-inner\">\n",
      "                <i class=\"a-icon a-icon-alert\"></i>\n",
      "                <h4>Enter the characters you see below</h4>\n",
      "                <p class=\"a-last\">Sorry, we just need to make sure you're not a robot. For best results, please make sure your browser is accepting cookies.</p>\n",
      "                </div>\n",
      "            </div>\n",
      "\n",
      "            <div class=\"a-section\">\n",
      "\n",
      "                <div class=\"a-box a-color-offset-background\">\n",
      "                    <div class=\"a-box-inner a-padding-extra-large\">\n",
      "\n",
      "                        <form method=\"get\" action=\"/errors/validateCaptcha\" name=\"\">\n",
      "                            <input type=hidden name=\"amzn\" value=\"TuLBBjCSTujxF7+YrxvRVg==\" /><input type=hidden name=\"amzn-r\" value=\"&#047;\" />\n",
      "                            <div class=\"a-row a-spacing-large\">\n",
      "                                <div class=\"a-box\">\n",
      "                                    <div class=\"a-box-inner\">\n",
      "                                        <h4>Type the characters you see in this image:</h4>\n",
      "                                        <!-- For automated access to price change or offer listing change events,\n",
      "                                             please refer to the MWS Subscription API:\n",
      "                                             https://developer.amazonservices.co.uk/gp/mws/api.html/276-5247872-0590350?ie=UTF8&section=subscriptions&group=subscriptions&version=latest\n",
      "                                        -->\n",
      "                                        <div class=\"a-row a-text-center\">\n",
      "                                            <img src=\"https://images-na.ssl-images-amazon.com/captcha/dgbcpgrn/Captcha_kkxclzhric.jpg\">\n",
      "                                        </div>\n",
      "                                        <div class=\"a-row a-spacing-base\">\n",
      "                                            <div class=\"a-row\">\n",
      "                                                <div class=\"a-column a-span6\">\n",
      "                                                </div>\n",
      "                                                <div class=\"a-column a-span6 a-span-last a-text-right\">\n",
      "                                                    <a onclick=\"window.location.reload()\">Try different image</a>\n",
      "                                                </div>\n",
      "                                            </div>\n",
      "                                            <input autocomplete=\"off\" spellcheck=\"false\" placeholder=\"Type characters\" id=\"captchacharacters\" name=\"field-keywords\" class=\"a-span12\" autocapitalize=\"off\" autocorrect=\"off\" type=\"text\">\n",
      "                                        </div>\n",
      "                                    </div>\n",
      "                                </div>\n",
      "                            </div>\n",
      "\n",
      "                            <div class=\"a-section a-spacing-extra-large\">\n",
      "\n",
      "                                <div class=\"a-row\">\n",
      "                                    <span class=\"a-button a-button-primary a-span12\">\n",
      "                                        <span class=\"a-button-inner\">\n",
      "                                            <button type=\"submit\" class=\"a-button-text\">Continue shopping</button>\n",
      "                                        </span>\n",
      "                                    </span>\n",
      "                                </div>\n",
      "\n",
      "                            </div>\n",
      "                        </form>\n",
      "\n",
      "                    </div>\n",
      "                </div>\n",
      "\n",
      "            </div>\n",
      "\n",
      "        </div>\n",
      "\n",
      "        <div class=\"a-divider a-divider-section\"><div class=\"a-divider-inner\"></div></div>\n",
      "\n",
      "        <div class=\"a-text-center a-spacing-small a-size-mini\">\n",
      "            <a href=\"https://www.amazon.co.uk/gp/help/customer/display.html/ref=footer_cou?ie=UTF8&nodeId=1040616\">Conditions of Use &amp; Sale</a>\n",
      "            <span class=\"a-letter-space\"></span>\n",
      "            <span class=\"a-letter-space\"></span>\n",
      "            <span class=\"a-letter-space\"></span>\n",
      "            <span class=\"a-letter-space\"></span>\n",
      "            <a href=\"https://www.amazon.co.uk/gp/help/customer/display.html/ref=footer_privacy?ie=UTF8&nodeId=502584\">Privacy Notice</a>\n",
      "        </div>\n",
      "\n",
      "        <div class=\"a-text-center a-size-mini a-color-secondary\">\n",
      "          &copy; 1996-2015, Amazon.com, Inc. or its affiliates\n",
      "          <script>\n",
      "           if (true === true) {\n",
      "             document.write('<img src=\"https://fls-eu.amaz'+'on.co.uk/'+'1/oc-csi/1/OP/requestId=TR66RYX1PPB4TYV24AWV&js=1\" />');\n",
      "           };\n",
      "          </script>\n",
      "          <noscript>\n",
      "            <img src=\"https://fls-eu.amazon.co.uk/1/oc-csi/1/OP/requestId=TR66RYX1PPB4TYV24AWV&js=0\" />\n",
      "          </noscript>\n",
      "        </div>\n",
      "    </div>\n",
      "    <script>\n",
      "    if (true === true) {\n",
      "        var head = document.getElementsByTagName('head')[0],\n",
      "            prefix = \"https://images-eu.ssl-images-amazon.com/images/G/01/csminstrumentation/\",\n",
      "            elem = document.createElement(\"script\");\n",
      "        elem.src = prefix + \"csm-captcha-instrumentation.min.js\";\n",
      "        head.appendChild(elem);\n",
      "\n",
      "        elem = document.createElement(\"script\");\n",
      "        elem.src = prefix + \"rd-script-6d68177fa6061598e9509dc4b5bdd08d.js\";\n",
      "        head.appendChild(elem);\n",
      "    }\n",
      "    </script>\n",
      "</body></html>\n",
      "\n"
     ]
    }
   ],
   "source": [
    "url = 'https://www.amazon.co.uk'\n",
    "page = requests.get(url)\n",
    "print(page.text)"
   ]
  },
  {
   "cell_type": "markdown",
   "metadata": {},
   "source": [
    "Note that the above code is incredibly short for what might be expected from the landing page of Amazon. This is because Amazon is a dynamic website, and much of what you would see in your browser is hand \"dyanmically\"produced - i.e. is constructed on your computer rather than sent direclt from a server (note that a large chunk of the above is infact javascipt code - this is what is used to construct our \"personal\" Amazon homepage).\n",
    "\n",
    "To over come this, we need a new approach. For this we use the packagae selenium which can handle these dynamically produced websites."
   ]
  },
  {
   "cell_type": "code",
   "execution_count": 3,
   "metadata": {},
   "outputs": [],
   "source": [
    "import selenium"
   ]
  },
  {
   "cell_type": "markdown",
   "metadata": {},
   "source": [
    "Selenium requires a webdriver to interface with these pages. We have opted to use chromedriver as Chrome is our chosen browser."
   ]
  },
  {
   "cell_type": "code",
   "execution_count": 4,
   "metadata": {},
   "outputs": [],
   "source": [
    "driver_loc = 'C:/Users/Decla/Downloads/chromedriver_win32/chromedriver.exe'"
   ]
  },
  {
   "cell_type": "markdown",
   "metadata": {},
   "source": [
    "To start our webscraping process, we also need some additional objects. We import these."
   ]
  },
  {
   "cell_type": "code",
   "execution_count": 5,
   "metadata": {},
   "outputs": [],
   "source": [
    "from selenium import webdriver\n",
    "from selenium.webdriver.common.keys import Keys\n",
    "from selenium.webdriver.chrome.options import Options\n",
    "from webdriver_manager.chrome import ChromeDriverManager\n",
    "import os\n",
    "import time"
   ]
  },
  {
   "cell_type": "markdown",
   "metadata": {},
   "source": [
    "We can now set some basic options for our browser interface (handled by selenium). In particular, we want to use the headless mode which will mean that when the website is accessed and rendered, it will not be down in a visibile window (i.e. will be loaded in the background)."
   ]
  },
  {
   "cell_type": "code",
   "execution_count": 6,
   "metadata": {},
   "outputs": [],
   "source": [
    "# Define options\n",
    "chrome_options = Options()\n",
    "chrome_options.add_argument(\"--headless\")\n",
    "\n",
    "# Note that some websites deny headless browsers, changing user-agent should handle this\n",
    "user_agent = 'Mozilla/5.0 (X11; Linux x86_64) AppleWebKit/537.36 (KHTML, like Gecko) Chrome/60.0.3112.50 Safari/537.36'    \n",
    "chrome_options.add_argument('user-agent={0}'.format(user_agent))\n",
    "\n",
    "# Create driver\n",
    "driver = webdriver.Chrome(options=chrome_options)"
   ]
  },
  {
   "cell_type": "markdown",
   "metadata": {},
   "source": [
    "To get started, we shall be instead attempting to scrape a dynamic job listing website."
   ]
  },
  {
   "cell_type": "code",
   "execution_count": 7,
   "metadata": {},
   "outputs": [],
   "source": [
    "test_url = 'https://www.naukri.com/top-jobs-by-designations#desigtop600'"
   ]
  },
  {
   "cell_type": "markdown",
   "metadata": {},
   "source": [
    "Now we provide this address to the driver, which will then request the page while also using our browser driver to execute any dynamic aspects (e.g. javascript driven artifacts) on this page. Note that javascript may take some time to execute and for servers to return everything, so we use pythons built in sleep function just to give some additional time and ensure these have completed."
   ]
  },
  {
   "cell_type": "code",
   "execution_count": 8,
   "metadata": {},
   "outputs": [],
   "source": [
    "# Get our target website\n",
    "driver.get(test_url)\n",
    "# Ensure that webpage has fully loaded (i.e. javascript has fully executed and returned)\n",
    "time.sleep(3)\n",
    "\n",
    "# Get HTML source code\n",
    "html = driver.page_source"
   ]
  },
  {
   "cell_type": "markdown",
   "metadata": {},
   "source": [
    "Having obtained the complete compiled HTML code for the webpage, we can use the BeautifulSoup function to make the DOM readily searchable and accessible. "
   ]
  },
  {
   "cell_type": "code",
   "execution_count": 10,
   "metadata": {},
   "outputs": [],
   "source": [
    "soup = BeautifulSoup(html, \"html.parser\")"
   ]
  },
  {
   "cell_type": "markdown",
   "metadata": {},
   "source": [
    "Looking at the HTML code of the webpage through a browser, we can see that all of the job listings are contained within a div element which has the id nameSearch. We can thus use methods of the BeautifulSoup object to find this section of code to search and scrape further."
   ]
  },
  {
   "cell_type": "code",
   "execution_count": 14,
   "metadata": {},
   "outputs": [],
   "source": [
    "div = soup.find('div', id='nameSearch')"
   ]
  },
  {
   "cell_type": "markdown",
   "metadata": {},
   "source": [
    "Further inspection shows that actual job listins are displaying in the HTML code as a elements. Print a sample of these."
   ]
  },
  {
   "cell_type": "code",
   "execution_count": 16,
   "metadata": {},
   "outputs": [
    {
     "name": "stdout",
     "output_type": "stream",
     "text": [
      "Assistant Professor Jobs\n",
      "Lecturer Jobs\n",
      "Business Analyst Jobs\n",
      "Computer Operator Jobs\n",
      "Company Secretary Jobs\n",
      "Graphic Designer Jobs\n",
      "Lab Technician Jobs\n",
      "Accountant Jobs\n",
      "Librarian Jobs\n",
      "Medical Representative Jobs\n"
     ]
    }
   ],
   "source": [
    "# Print out the text from the top ten <a> tags\n",
    "job_listings = div.find_all('a')\n",
    "for job in job_listings[:10]:\n",
    "    print(job.text)"
   ]
  },
  {
   "cell_type": "code",
   "execution_count": 9,
   "metadata": {},
   "outputs": [],
   "source": [
    "# Closer broswer\n",
    "driver.quit()"
   ]
  }
 ],
 "metadata": {
  "kernelspec": {
   "display_name": "Python 3",
   "language": "python",
   "name": "python3"
  },
  "language_info": {
   "codemirror_mode": {
    "name": "ipython",
    "version": 3
   },
   "file_extension": ".py",
   "mimetype": "text/x-python",
   "name": "python",
   "nbconvert_exporter": "python",
   "pygments_lexer": "ipython3",
   "version": "3.8.5"
  }
 },
 "nbformat": 4,
 "nbformat_minor": 4
}
